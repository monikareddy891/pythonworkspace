{
 "cells": [
  {
   "cell_type": "raw",
   "metadata": {},
   "source": [
    "Read Five marks tamil,english,maths,science and social and if all marks are greater than 35 , print pass else print fail"
   ]
  },
  {
   "cell_type": "code",
   "execution_count": 1,
   "metadata": {},
   "outputs": [
    {
     "name": "stdin",
     "output_type": "stream",
     "text": [
      "enter marks of tamil: 54\n",
      "enter marks of english: 58\n",
      "enter marks of maths: 54\n",
      "enter marks of science: 25\n",
      "enter marks of social: 12\n"
     ]
    },
    {
     "name": "stdout",
     "output_type": "stream",
     "text": [
      "fail\n"
     ]
    }
   ],
   "source": [
    "a=int(input(\"enter marks of tamil:\"))\n",
    "b=int(input(\"enter marks of english:\"))\n",
    "c=int(input(\"enter marks of maths:\"))\n",
    "d=int(input(\"enter marks of science:\"))\n",
    "e=int(input(\"enter marks of social:\"))\n",
    "if a>35 and b>35 and c>35 and d>35 and e>35:\n",
    "    print(\"pass\")\n",
    "else:\n",
    "    print(\"fail\")"
   ]
  }
 ],
 "metadata": {
  "kernelspec": {
   "display_name": "Python 3 (ipykernel)",
   "language": "python",
   "name": "python3"
  },
  "language_info": {
   "codemirror_mode": {
    "name": "ipython",
    "version": 3
   },
   "file_extension": ".py",
   "mimetype": "text/x-python",
   "name": "python",
   "nbconvert_exporter": "python",
   "pygments_lexer": "ipython3",
   "version": "3.11.7"
  }
 },
 "nbformat": 4,
 "nbformat_minor": 4
}
